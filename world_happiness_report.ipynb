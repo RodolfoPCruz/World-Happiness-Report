{
 "cells": [
  {
   "cell_type": "code",
   "execution_count": 1,
   "metadata": {},
   "outputs": [],
   "source": [
    "import numpy as np\n",
    "import pandas as pd\n",
    "import plotly.express as px\n",
    "\n",
    "import pycountry\n",
    "\n",
    "from glob import glob"
   ]
  },
  {
   "cell_type": "markdown",
   "metadata": {},
   "source": [
    "# Carregar dados"
   ]
  },
  {
   "cell_type": "markdown",
   "metadata": {},
   "source": [
    "Dataset disponível em:\n",
    "https://www.kaggle.com/datasets/unsdsn/world-happiness/data"
   ]
  },
  {
   "cell_type": "code",
   "execution_count": 2,
   "metadata": {},
   "outputs": [
    {
     "data": {
      "text/plain": [
       "['../dados/archive/2019.csv',\n",
       " '../dados/archive/2018.csv',\n",
       " '../dados/archive/2016.csv',\n",
       " '../dados/archive/2017.csv',\n",
       " '../dados/archive/2015.csv']"
      ]
     },
     "execution_count": 2,
     "metadata": {},
     "output_type": "execute_result"
    }
   ],
   "source": [
    "files=glob('../dados/archive/*.csv')\n",
    "files"
   ]
  },
  {
   "cell_type": "code",
   "execution_count": 3,
   "metadata": {},
   "outputs": [],
   "source": [
    "#Carregando os dados para um dicionário\n",
    "reports={}\n",
    "for path in files:\n",
    "    ano=path.split('/')[-1].split('.')[0] #retorna o ano contido no caminho do arquivo\n",
    "    reports[ano]=pd.read_csv(path)"
   ]
  },
  {
   "cell_type": "markdown",
   "metadata": {},
   "source": [
    "# Descrição dos dados"
   ]
  },
  {
   "cell_type": "markdown",
   "metadata": {},
   "source": [
    "O dataset contém reports sobre o nível de felicidade em 155 países entre os anos de 2015 e 2019. O nível de felicidade foi medido em uma pesquisa em que pessoas eram solicitadas a dar uma nota para suas pŕoprias vidas, na qual 10 seria o melhor cenário possível e 0 o pior. Os reports contam com o score de felicidade obtido por cada país, além de seis indicadores que podem ser usados para explicar o índice de felicidade. Os indicadores são os seguintes:\n",
    "\n",
    "- GDP Per capita é o PIB per capita do pais;\n",
    "\n",
    "- Social support é a média das repostas para a seguinte  pergunta: Em caso de dificuldades, você conta com familiares ou amigos que possam te ajudar? \n",
    "\n",
    "- Healthy life expectancy é a expectativa de vida;\t\n",
    "\n",
    "- Freedom to make life choices é a média das repostas para a seguinte pergunta: Você está safisfeito com a liberdade que possui para fazer escolhas na sua vida?;\n",
    " \n",
    "- Generosity é o resíduo da regressão entre GDP per capita e a resposta média para a seguinte pergunta: Você doou dinheiro para caridade no mês passado?;\n",
    "\n",
    "- Perceptions of corruption é a média das respostas para duas perguntas. A primeira delas é se a corrupção está disseminada no governo e a segunda se a corrupção está disseminada no mundo empresarial. Essa variável varia entre 0 e 1, onde 1 seria o país menor corrupto;\n",
    "\n",
    "Para o cálculo da média das respostas foi atribuído valor 1 para respostas potivivas e valor 0 para respostas negativas.\n",
    "\n",
    "Explicação detalhada pode ser encontrada em : https://worldhappiness.report/faq/"
   ]
  },
  {
   "cell_type": "markdown",
   "metadata": {},
   "source": [
    "- Dystopia é um pai imaginário que teria o menor índice de felicidade. Esse país foi criado para servir com parâmetros de comparação com os demais, ou seja, como certo país está em comparação com o país na pior situação possível. Dystopia tem o pior resultado para cada um dos seis indicadores considerados;\n",
    "\n",
    "- Residuals indicam a extensão com que os incicadores conseguem ou não explicar os indices de felicidade."
   ]
  },
  {
   "cell_type": "markdown",
   "metadata": {},
   "source": [
    "# Análise Preliminar"
   ]
  },
  {
   "cell_type": "code",
   "execution_count": 4,
   "metadata": {},
   "outputs": [
    {
     "name": "stdout",
     "output_type": "stream",
     "text": [
      "2019 : (156, 9)\n",
      "Index(['Overall rank', 'Country or region', 'Score', 'GDP per capita',\n",
      "       'Social support', 'Healthy life expectancy',\n",
      "       'Freedom to make life choices', 'Generosity',\n",
      "       'Perceptions of corruption'],\n",
      "      dtype='object')\n",
      "\n",
      "2018 : (156, 9)\n",
      "Index(['Overall rank', 'Country or region', 'Score', 'GDP per capita',\n",
      "       'Social support', 'Healthy life expectancy',\n",
      "       'Freedom to make life choices', 'Generosity',\n",
      "       'Perceptions of corruption'],\n",
      "      dtype='object')\n",
      "\n",
      "2016 : (157, 13)\n",
      "Index(['Country', 'Region', 'Happiness Rank', 'Happiness Score',\n",
      "       'Lower Confidence Interval', 'Upper Confidence Interval',\n",
      "       'Economy (GDP per Capita)', 'Family', 'Health (Life Expectancy)',\n",
      "       'Freedom', 'Trust (Government Corruption)', 'Generosity',\n",
      "       'Dystopia Residual'],\n",
      "      dtype='object')\n",
      "\n",
      "2017 : (155, 12)\n",
      "Index(['Country', 'Happiness.Rank', 'Happiness.Score', 'Whisker.high',\n",
      "       'Whisker.low', 'Economy..GDP.per.Capita.', 'Family',\n",
      "       'Health..Life.Expectancy.', 'Freedom', 'Generosity',\n",
      "       'Trust..Government.Corruption.', 'Dystopia.Residual'],\n",
      "      dtype='object')\n",
      "\n",
      "2015 : (158, 12)\n",
      "Index(['Country', 'Region', 'Happiness Rank', 'Happiness Score',\n",
      "       'Standard Error', 'Economy (GDP per Capita)', 'Family',\n",
      "       'Health (Life Expectancy)', 'Freedom', 'Trust (Government Corruption)',\n",
      "       'Generosity', 'Dystopia Residual'],\n",
      "      dtype='object')\n",
      "\n"
     ]
    }
   ],
   "source": [
    "for ano in reports.keys():\n",
    "    print(ano+f' : {reports[ano].shape}')\n",
    "    print(reports[ano].columns)\n",
    "    print('')\n",
    "\n",
    "#O número de colunas e de linhas não é igual em todos os reports   "
   ]
  },
  {
   "cell_type": "markdown",
   "metadata": {},
   "source": [
    "- Nos reports de 2015,2016 e 2017 o indicador social support foi chamado de family;\n",
    "- Reports de 2015, 2016 e 2017 contam com a coluna  'Dystopia Residual';\n",
    "- Reports de 2016 e 2017 contam com o intervalo de confiança do indicado de felicidade;\n",
    "- Nos reports de 2015 a 2017 a percepção de corrupção está relacionada somente ao setor governamental (Trust (Government Corruption)), enquanto nos de 2018 e 2019 está relacionada tanto ao setor governamental quanto ao setor empresarial.\n"
   ]
  },
  {
   "cell_type": "code",
   "execution_count": 5,
   "metadata": {},
   "outputs": [],
   "source": [
    "#Alterando o nome das colunas para que tenham nomes iguais em reports diferentes\n",
    "\n",
    "reports['2019'].rename(columns={'Country or region':'Country'},inplace=True)\n",
    "reports['2018'].rename(columns={'Country or region':'Country'},inplace=True)\n",
    "reports['2016'].rename(columns={'Happiness Rank':'Overall rank','Happiness Score':'Score','Economy (GDP per Capita)':'GDP per capita',\n",
    "                                'Family':'Social support','Health (Life Expectancy)':'Healthy life expectancy','Freedom':'Freedom to make life choices'},inplace=True)\n",
    "reports['2017'].rename(columns={ 'Happiness.Rank':'Overall rank','Happiness.Score':'Score','Economy..GDP.per.Capita.':'GDP per capita',\n",
    "                                'Family':'Social support','Health..Life.Expectancy.':'Healthy life expectancy',\n",
    "                                'Freedom':'Freedom to make life choices','Trust..Government.Corruption.':'Trust (Government Corruption)'},inplace=True)\n",
    "reports['2015'].rename(columns={'Happiness Rank':'Overall rank','Happiness.Score':'Score','Economy (GDP per Capita)':'GDP per capita',\n",
    "                                'Family':'Social support','Health (Life Expectancy)':'Healthy life expectancy',\n",
    "                                'Freedom':'Freedom to make life choices','Trust (Government Corruption)':'Trust (Government Corruption)'},inplace=True)"
   ]
  },
  {
   "cell_type": "code",
   "execution_count": 6,
   "metadata": {},
   "outputs": [],
   "source": [
    "#Adicionando uma coluna com o ano em cada um dos reports\n",
    "for ano in reports.keys():\n",
    "    reports[ano]['Year']=int(ano)"
   ]
  },
  {
   "cell_type": "code",
   "execution_count": 7,
   "metadata": {},
   "outputs": [],
   "source": [
    "#Concatenando os dados dos reports anuais para facilitar a análise da evolução anual dos indicadores\n",
    "\n",
    "reports_2015_a_2019=pd.concat([reports[ano] for ano in reports.keys()],axis=0)"
   ]
  },
  {
   "cell_type": "code",
   "execution_count": 8,
   "metadata": {},
   "outputs": [
    {
     "data": {
      "text/html": [
       "<div>\n",
       "<style scoped>\n",
       "    .dataframe tbody tr th:only-of-type {\n",
       "        vertical-align: middle;\n",
       "    }\n",
       "\n",
       "    .dataframe tbody tr th {\n",
       "        vertical-align: top;\n",
       "    }\n",
       "\n",
       "    .dataframe thead th {\n",
       "        text-align: right;\n",
       "    }\n",
       "</style>\n",
       "<table border=\"1\" class=\"dataframe\">\n",
       "  <thead>\n",
       "    <tr style=\"text-align: right;\">\n",
       "      <th></th>\n",
       "      <th>Overall rank</th>\n",
       "      <th>Country</th>\n",
       "      <th>Score</th>\n",
       "      <th>GDP per capita</th>\n",
       "      <th>Social support</th>\n",
       "      <th>Healthy life expectancy</th>\n",
       "      <th>Freedom to make life choices</th>\n",
       "      <th>Generosity</th>\n",
       "      <th>Perceptions of corruption</th>\n",
       "      <th>Year</th>\n",
       "      <th>Region</th>\n",
       "      <th>Lower Confidence Interval</th>\n",
       "      <th>Upper Confidence Interval</th>\n",
       "      <th>Trust (Government Corruption)</th>\n",
       "      <th>Dystopia Residual</th>\n",
       "      <th>Whisker.high</th>\n",
       "      <th>Whisker.low</th>\n",
       "      <th>Dystopia.Residual</th>\n",
       "      <th>Happiness Score</th>\n",
       "      <th>Standard Error</th>\n",
       "    </tr>\n",
       "  </thead>\n",
       "  <tbody>\n",
       "    <tr>\n",
       "      <th>0</th>\n",
       "      <td>1</td>\n",
       "      <td>Finland</td>\n",
       "      <td>7.769</td>\n",
       "      <td>1.34000</td>\n",
       "      <td>1.58700</td>\n",
       "      <td>0.98600</td>\n",
       "      <td>0.59600</td>\n",
       "      <td>0.15300</td>\n",
       "      <td>0.393</td>\n",
       "      <td>2019</td>\n",
       "      <td>NaN</td>\n",
       "      <td>NaN</td>\n",
       "      <td>NaN</td>\n",
       "      <td>NaN</td>\n",
       "      <td>NaN</td>\n",
       "      <td>NaN</td>\n",
       "      <td>NaN</td>\n",
       "      <td>NaN</td>\n",
       "      <td>NaN</td>\n",
       "      <td>NaN</td>\n",
       "    </tr>\n",
       "    <tr>\n",
       "      <th>1</th>\n",
       "      <td>2</td>\n",
       "      <td>Denmark</td>\n",
       "      <td>7.600</td>\n",
       "      <td>1.38300</td>\n",
       "      <td>1.57300</td>\n",
       "      <td>0.99600</td>\n",
       "      <td>0.59200</td>\n",
       "      <td>0.25200</td>\n",
       "      <td>0.410</td>\n",
       "      <td>2019</td>\n",
       "      <td>NaN</td>\n",
       "      <td>NaN</td>\n",
       "      <td>NaN</td>\n",
       "      <td>NaN</td>\n",
       "      <td>NaN</td>\n",
       "      <td>NaN</td>\n",
       "      <td>NaN</td>\n",
       "      <td>NaN</td>\n",
       "      <td>NaN</td>\n",
       "      <td>NaN</td>\n",
       "    </tr>\n",
       "    <tr>\n",
       "      <th>2</th>\n",
       "      <td>3</td>\n",
       "      <td>Norway</td>\n",
       "      <td>7.554</td>\n",
       "      <td>1.48800</td>\n",
       "      <td>1.58200</td>\n",
       "      <td>1.02800</td>\n",
       "      <td>0.60300</td>\n",
       "      <td>0.27100</td>\n",
       "      <td>0.341</td>\n",
       "      <td>2019</td>\n",
       "      <td>NaN</td>\n",
       "      <td>NaN</td>\n",
       "      <td>NaN</td>\n",
       "      <td>NaN</td>\n",
       "      <td>NaN</td>\n",
       "      <td>NaN</td>\n",
       "      <td>NaN</td>\n",
       "      <td>NaN</td>\n",
       "      <td>NaN</td>\n",
       "      <td>NaN</td>\n",
       "    </tr>\n",
       "    <tr>\n",
       "      <th>3</th>\n",
       "      <td>4</td>\n",
       "      <td>Iceland</td>\n",
       "      <td>7.494</td>\n",
       "      <td>1.38000</td>\n",
       "      <td>1.62400</td>\n",
       "      <td>1.02600</td>\n",
       "      <td>0.59100</td>\n",
       "      <td>0.35400</td>\n",
       "      <td>0.118</td>\n",
       "      <td>2019</td>\n",
       "      <td>NaN</td>\n",
       "      <td>NaN</td>\n",
       "      <td>NaN</td>\n",
       "      <td>NaN</td>\n",
       "      <td>NaN</td>\n",
       "      <td>NaN</td>\n",
       "      <td>NaN</td>\n",
       "      <td>NaN</td>\n",
       "      <td>NaN</td>\n",
       "      <td>NaN</td>\n",
       "    </tr>\n",
       "    <tr>\n",
       "      <th>4</th>\n",
       "      <td>5</td>\n",
       "      <td>Netherlands</td>\n",
       "      <td>7.488</td>\n",
       "      <td>1.39600</td>\n",
       "      <td>1.52200</td>\n",
       "      <td>0.99900</td>\n",
       "      <td>0.55700</td>\n",
       "      <td>0.32200</td>\n",
       "      <td>0.298</td>\n",
       "      <td>2019</td>\n",
       "      <td>NaN</td>\n",
       "      <td>NaN</td>\n",
       "      <td>NaN</td>\n",
       "      <td>NaN</td>\n",
       "      <td>NaN</td>\n",
       "      <td>NaN</td>\n",
       "      <td>NaN</td>\n",
       "      <td>NaN</td>\n",
       "      <td>NaN</td>\n",
       "      <td>NaN</td>\n",
       "    </tr>\n",
       "    <tr>\n",
       "      <th>...</th>\n",
       "      <td>...</td>\n",
       "      <td>...</td>\n",
       "      <td>...</td>\n",
       "      <td>...</td>\n",
       "      <td>...</td>\n",
       "      <td>...</td>\n",
       "      <td>...</td>\n",
       "      <td>...</td>\n",
       "      <td>...</td>\n",
       "      <td>...</td>\n",
       "      <td>...</td>\n",
       "      <td>...</td>\n",
       "      <td>...</td>\n",
       "      <td>...</td>\n",
       "      <td>...</td>\n",
       "      <td>...</td>\n",
       "      <td>...</td>\n",
       "      <td>...</td>\n",
       "      <td>...</td>\n",
       "      <td>...</td>\n",
       "    </tr>\n",
       "    <tr>\n",
       "      <th>153</th>\n",
       "      <td>154</td>\n",
       "      <td>Rwanda</td>\n",
       "      <td>NaN</td>\n",
       "      <td>0.22208</td>\n",
       "      <td>0.77370</td>\n",
       "      <td>0.42864</td>\n",
       "      <td>0.59201</td>\n",
       "      <td>0.22628</td>\n",
       "      <td>NaN</td>\n",
       "      <td>2015</td>\n",
       "      <td>Sub-Saharan Africa</td>\n",
       "      <td>NaN</td>\n",
       "      <td>NaN</td>\n",
       "      <td>0.55191</td>\n",
       "      <td>0.67042</td>\n",
       "      <td>NaN</td>\n",
       "      <td>NaN</td>\n",
       "      <td>NaN</td>\n",
       "      <td>3.465</td>\n",
       "      <td>0.03464</td>\n",
       "    </tr>\n",
       "    <tr>\n",
       "      <th>154</th>\n",
       "      <td>155</td>\n",
       "      <td>Benin</td>\n",
       "      <td>NaN</td>\n",
       "      <td>0.28665</td>\n",
       "      <td>0.35386</td>\n",
       "      <td>0.31910</td>\n",
       "      <td>0.48450</td>\n",
       "      <td>0.18260</td>\n",
       "      <td>NaN</td>\n",
       "      <td>2015</td>\n",
       "      <td>Sub-Saharan Africa</td>\n",
       "      <td>NaN</td>\n",
       "      <td>NaN</td>\n",
       "      <td>0.08010</td>\n",
       "      <td>1.63328</td>\n",
       "      <td>NaN</td>\n",
       "      <td>NaN</td>\n",
       "      <td>NaN</td>\n",
       "      <td>3.340</td>\n",
       "      <td>0.03656</td>\n",
       "    </tr>\n",
       "    <tr>\n",
       "      <th>155</th>\n",
       "      <td>156</td>\n",
       "      <td>Syria</td>\n",
       "      <td>NaN</td>\n",
       "      <td>0.66320</td>\n",
       "      <td>0.47489</td>\n",
       "      <td>0.72193</td>\n",
       "      <td>0.15684</td>\n",
       "      <td>0.47179</td>\n",
       "      <td>NaN</td>\n",
       "      <td>2015</td>\n",
       "      <td>Middle East and Northern Africa</td>\n",
       "      <td>NaN</td>\n",
       "      <td>NaN</td>\n",
       "      <td>0.18906</td>\n",
       "      <td>0.32858</td>\n",
       "      <td>NaN</td>\n",
       "      <td>NaN</td>\n",
       "      <td>NaN</td>\n",
       "      <td>3.006</td>\n",
       "      <td>0.05015</td>\n",
       "    </tr>\n",
       "    <tr>\n",
       "      <th>156</th>\n",
       "      <td>157</td>\n",
       "      <td>Burundi</td>\n",
       "      <td>NaN</td>\n",
       "      <td>0.01530</td>\n",
       "      <td>0.41587</td>\n",
       "      <td>0.22396</td>\n",
       "      <td>0.11850</td>\n",
       "      <td>0.19727</td>\n",
       "      <td>NaN</td>\n",
       "      <td>2015</td>\n",
       "      <td>Sub-Saharan Africa</td>\n",
       "      <td>NaN</td>\n",
       "      <td>NaN</td>\n",
       "      <td>0.10062</td>\n",
       "      <td>1.83302</td>\n",
       "      <td>NaN</td>\n",
       "      <td>NaN</td>\n",
       "      <td>NaN</td>\n",
       "      <td>2.905</td>\n",
       "      <td>0.08658</td>\n",
       "    </tr>\n",
       "    <tr>\n",
       "      <th>157</th>\n",
       "      <td>158</td>\n",
       "      <td>Togo</td>\n",
       "      <td>NaN</td>\n",
       "      <td>0.20868</td>\n",
       "      <td>0.13995</td>\n",
       "      <td>0.28443</td>\n",
       "      <td>0.36453</td>\n",
       "      <td>0.16681</td>\n",
       "      <td>NaN</td>\n",
       "      <td>2015</td>\n",
       "      <td>Sub-Saharan Africa</td>\n",
       "      <td>NaN</td>\n",
       "      <td>NaN</td>\n",
       "      <td>0.10731</td>\n",
       "      <td>1.56726</td>\n",
       "      <td>NaN</td>\n",
       "      <td>NaN</td>\n",
       "      <td>NaN</td>\n",
       "      <td>2.839</td>\n",
       "      <td>0.06727</td>\n",
       "    </tr>\n",
       "  </tbody>\n",
       "</table>\n",
       "<p>782 rows × 20 columns</p>\n",
       "</div>"
      ],
      "text/plain": [
       "     Overall rank      Country  Score  GDP per capita  Social support  \\\n",
       "0               1      Finland  7.769         1.34000         1.58700   \n",
       "1               2      Denmark  7.600         1.38300         1.57300   \n",
       "2               3       Norway  7.554         1.48800         1.58200   \n",
       "3               4      Iceland  7.494         1.38000         1.62400   \n",
       "4               5  Netherlands  7.488         1.39600         1.52200   \n",
       "..            ...          ...    ...             ...             ...   \n",
       "153           154       Rwanda    NaN         0.22208         0.77370   \n",
       "154           155        Benin    NaN         0.28665         0.35386   \n",
       "155           156        Syria    NaN         0.66320         0.47489   \n",
       "156           157      Burundi    NaN         0.01530         0.41587   \n",
       "157           158         Togo    NaN         0.20868         0.13995   \n",
       "\n",
       "     Healthy life expectancy  Freedom to make life choices  Generosity  \\\n",
       "0                    0.98600                       0.59600     0.15300   \n",
       "1                    0.99600                       0.59200     0.25200   \n",
       "2                    1.02800                       0.60300     0.27100   \n",
       "3                    1.02600                       0.59100     0.35400   \n",
       "4                    0.99900                       0.55700     0.32200   \n",
       "..                       ...                           ...         ...   \n",
       "153                  0.42864                       0.59201     0.22628   \n",
       "154                  0.31910                       0.48450     0.18260   \n",
       "155                  0.72193                       0.15684     0.47179   \n",
       "156                  0.22396                       0.11850     0.19727   \n",
       "157                  0.28443                       0.36453     0.16681   \n",
       "\n",
       "     Perceptions of corruption  Year                           Region  \\\n",
       "0                        0.393  2019                              NaN   \n",
       "1                        0.410  2019                              NaN   \n",
       "2                        0.341  2019                              NaN   \n",
       "3                        0.118  2019                              NaN   \n",
       "4                        0.298  2019                              NaN   \n",
       "..                         ...   ...                              ...   \n",
       "153                        NaN  2015               Sub-Saharan Africa   \n",
       "154                        NaN  2015               Sub-Saharan Africa   \n",
       "155                        NaN  2015  Middle East and Northern Africa   \n",
       "156                        NaN  2015               Sub-Saharan Africa   \n",
       "157                        NaN  2015               Sub-Saharan Africa   \n",
       "\n",
       "     Lower Confidence Interval  Upper Confidence Interval  \\\n",
       "0                          NaN                        NaN   \n",
       "1                          NaN                        NaN   \n",
       "2                          NaN                        NaN   \n",
       "3                          NaN                        NaN   \n",
       "4                          NaN                        NaN   \n",
       "..                         ...                        ...   \n",
       "153                        NaN                        NaN   \n",
       "154                        NaN                        NaN   \n",
       "155                        NaN                        NaN   \n",
       "156                        NaN                        NaN   \n",
       "157                        NaN                        NaN   \n",
       "\n",
       "     Trust (Government Corruption)  Dystopia Residual  Whisker.high  \\\n",
       "0                              NaN                NaN           NaN   \n",
       "1                              NaN                NaN           NaN   \n",
       "2                              NaN                NaN           NaN   \n",
       "3                              NaN                NaN           NaN   \n",
       "4                              NaN                NaN           NaN   \n",
       "..                             ...                ...           ...   \n",
       "153                        0.55191            0.67042           NaN   \n",
       "154                        0.08010            1.63328           NaN   \n",
       "155                        0.18906            0.32858           NaN   \n",
       "156                        0.10062            1.83302           NaN   \n",
       "157                        0.10731            1.56726           NaN   \n",
       "\n",
       "     Whisker.low  Dystopia.Residual  Happiness Score  Standard Error  \n",
       "0            NaN                NaN              NaN             NaN  \n",
       "1            NaN                NaN              NaN             NaN  \n",
       "2            NaN                NaN              NaN             NaN  \n",
       "3            NaN                NaN              NaN             NaN  \n",
       "4            NaN                NaN              NaN             NaN  \n",
       "..           ...                ...              ...             ...  \n",
       "153          NaN                NaN            3.465         0.03464  \n",
       "154          NaN                NaN            3.340         0.03656  \n",
       "155          NaN                NaN            3.006         0.05015  \n",
       "156          NaN                NaN            2.905         0.08658  \n",
       "157          NaN                NaN            2.839         0.06727  \n",
       "\n",
       "[782 rows x 20 columns]"
      ]
     },
     "execution_count": 8,
     "metadata": {},
     "output_type": "execute_result"
    }
   ],
   "source": [
    "reports_2015_a_2019"
   ]
  },
  {
   "cell_type": "code",
   "execution_count": 9,
   "metadata": {},
   "outputs": [],
   "source": [
    "#Selecionando as colunas de interesse\n",
    "selected_columns=reports['2019'].columns.to_list()\n",
    "selected_columns=selected_columns+['Trust (Government Corruption)']\n",
    "reports_2015_a_2019=reports_2015_a_2019.loc[:,selected_columns]"
   ]
  },
  {
   "cell_type": "code",
   "execution_count": 10,
   "metadata": {},
   "outputs": [
    {
     "data": {
      "text/html": [
       "<div>\n",
       "<style scoped>\n",
       "    .dataframe tbody tr th:only-of-type {\n",
       "        vertical-align: middle;\n",
       "    }\n",
       "\n",
       "    .dataframe tbody tr th {\n",
       "        vertical-align: top;\n",
       "    }\n",
       "\n",
       "    .dataframe thead th {\n",
       "        text-align: right;\n",
       "    }\n",
       "</style>\n",
       "<table border=\"1\" class=\"dataframe\">\n",
       "  <thead>\n",
       "    <tr style=\"text-align: right;\">\n",
       "      <th></th>\n",
       "      <th>Overall rank</th>\n",
       "      <th>Country</th>\n",
       "      <th>Score</th>\n",
       "      <th>GDP per capita</th>\n",
       "      <th>Social support</th>\n",
       "      <th>Healthy life expectancy</th>\n",
       "      <th>Freedom to make life choices</th>\n",
       "      <th>Generosity</th>\n",
       "      <th>Perceptions of corruption</th>\n",
       "      <th>Year</th>\n",
       "      <th>Trust (Government Corruption)</th>\n",
       "    </tr>\n",
       "  </thead>\n",
       "  <tbody>\n",
       "    <tr>\n",
       "      <th>0</th>\n",
       "      <td>1</td>\n",
       "      <td>Finland</td>\n",
       "      <td>7.769</td>\n",
       "      <td>1.34000</td>\n",
       "      <td>1.58700</td>\n",
       "      <td>0.98600</td>\n",
       "      <td>0.59600</td>\n",
       "      <td>0.15300</td>\n",
       "      <td>0.393</td>\n",
       "      <td>2019</td>\n",
       "      <td>NaN</td>\n",
       "    </tr>\n",
       "    <tr>\n",
       "      <th>1</th>\n",
       "      <td>2</td>\n",
       "      <td>Denmark</td>\n",
       "      <td>7.600</td>\n",
       "      <td>1.38300</td>\n",
       "      <td>1.57300</td>\n",
       "      <td>0.99600</td>\n",
       "      <td>0.59200</td>\n",
       "      <td>0.25200</td>\n",
       "      <td>0.410</td>\n",
       "      <td>2019</td>\n",
       "      <td>NaN</td>\n",
       "    </tr>\n",
       "    <tr>\n",
       "      <th>2</th>\n",
       "      <td>3</td>\n",
       "      <td>Norway</td>\n",
       "      <td>7.554</td>\n",
       "      <td>1.48800</td>\n",
       "      <td>1.58200</td>\n",
       "      <td>1.02800</td>\n",
       "      <td>0.60300</td>\n",
       "      <td>0.27100</td>\n",
       "      <td>0.341</td>\n",
       "      <td>2019</td>\n",
       "      <td>NaN</td>\n",
       "    </tr>\n",
       "    <tr>\n",
       "      <th>3</th>\n",
       "      <td>4</td>\n",
       "      <td>Iceland</td>\n",
       "      <td>7.494</td>\n",
       "      <td>1.38000</td>\n",
       "      <td>1.62400</td>\n",
       "      <td>1.02600</td>\n",
       "      <td>0.59100</td>\n",
       "      <td>0.35400</td>\n",
       "      <td>0.118</td>\n",
       "      <td>2019</td>\n",
       "      <td>NaN</td>\n",
       "    </tr>\n",
       "    <tr>\n",
       "      <th>4</th>\n",
       "      <td>5</td>\n",
       "      <td>Netherlands</td>\n",
       "      <td>7.488</td>\n",
       "      <td>1.39600</td>\n",
       "      <td>1.52200</td>\n",
       "      <td>0.99900</td>\n",
       "      <td>0.55700</td>\n",
       "      <td>0.32200</td>\n",
       "      <td>0.298</td>\n",
       "      <td>2019</td>\n",
       "      <td>NaN</td>\n",
       "    </tr>\n",
       "    <tr>\n",
       "      <th>...</th>\n",
       "      <td>...</td>\n",
       "      <td>...</td>\n",
       "      <td>...</td>\n",
       "      <td>...</td>\n",
       "      <td>...</td>\n",
       "      <td>...</td>\n",
       "      <td>...</td>\n",
       "      <td>...</td>\n",
       "      <td>...</td>\n",
       "      <td>...</td>\n",
       "      <td>...</td>\n",
       "    </tr>\n",
       "    <tr>\n",
       "      <th>153</th>\n",
       "      <td>154</td>\n",
       "      <td>Rwanda</td>\n",
       "      <td>NaN</td>\n",
       "      <td>0.22208</td>\n",
       "      <td>0.77370</td>\n",
       "      <td>0.42864</td>\n",
       "      <td>0.59201</td>\n",
       "      <td>0.22628</td>\n",
       "      <td>NaN</td>\n",
       "      <td>2015</td>\n",
       "      <td>0.55191</td>\n",
       "    </tr>\n",
       "    <tr>\n",
       "      <th>154</th>\n",
       "      <td>155</td>\n",
       "      <td>Benin</td>\n",
       "      <td>NaN</td>\n",
       "      <td>0.28665</td>\n",
       "      <td>0.35386</td>\n",
       "      <td>0.31910</td>\n",
       "      <td>0.48450</td>\n",
       "      <td>0.18260</td>\n",
       "      <td>NaN</td>\n",
       "      <td>2015</td>\n",
       "      <td>0.08010</td>\n",
       "    </tr>\n",
       "    <tr>\n",
       "      <th>155</th>\n",
       "      <td>156</td>\n",
       "      <td>Syria</td>\n",
       "      <td>NaN</td>\n",
       "      <td>0.66320</td>\n",
       "      <td>0.47489</td>\n",
       "      <td>0.72193</td>\n",
       "      <td>0.15684</td>\n",
       "      <td>0.47179</td>\n",
       "      <td>NaN</td>\n",
       "      <td>2015</td>\n",
       "      <td>0.18906</td>\n",
       "    </tr>\n",
       "    <tr>\n",
       "      <th>156</th>\n",
       "      <td>157</td>\n",
       "      <td>Burundi</td>\n",
       "      <td>NaN</td>\n",
       "      <td>0.01530</td>\n",
       "      <td>0.41587</td>\n",
       "      <td>0.22396</td>\n",
       "      <td>0.11850</td>\n",
       "      <td>0.19727</td>\n",
       "      <td>NaN</td>\n",
       "      <td>2015</td>\n",
       "      <td>0.10062</td>\n",
       "    </tr>\n",
       "    <tr>\n",
       "      <th>157</th>\n",
       "      <td>158</td>\n",
       "      <td>Togo</td>\n",
       "      <td>NaN</td>\n",
       "      <td>0.20868</td>\n",
       "      <td>0.13995</td>\n",
       "      <td>0.28443</td>\n",
       "      <td>0.36453</td>\n",
       "      <td>0.16681</td>\n",
       "      <td>NaN</td>\n",
       "      <td>2015</td>\n",
       "      <td>0.10731</td>\n",
       "    </tr>\n",
       "  </tbody>\n",
       "</table>\n",
       "<p>782 rows × 11 columns</p>\n",
       "</div>"
      ],
      "text/plain": [
       "     Overall rank      Country  Score  GDP per capita  Social support  \\\n",
       "0               1      Finland  7.769         1.34000         1.58700   \n",
       "1               2      Denmark  7.600         1.38300         1.57300   \n",
       "2               3       Norway  7.554         1.48800         1.58200   \n",
       "3               4      Iceland  7.494         1.38000         1.62400   \n",
       "4               5  Netherlands  7.488         1.39600         1.52200   \n",
       "..            ...          ...    ...             ...             ...   \n",
       "153           154       Rwanda    NaN         0.22208         0.77370   \n",
       "154           155        Benin    NaN         0.28665         0.35386   \n",
       "155           156        Syria    NaN         0.66320         0.47489   \n",
       "156           157      Burundi    NaN         0.01530         0.41587   \n",
       "157           158         Togo    NaN         0.20868         0.13995   \n",
       "\n",
       "     Healthy life expectancy  Freedom to make life choices  Generosity  \\\n",
       "0                    0.98600                       0.59600     0.15300   \n",
       "1                    0.99600                       0.59200     0.25200   \n",
       "2                    1.02800                       0.60300     0.27100   \n",
       "3                    1.02600                       0.59100     0.35400   \n",
       "4                    0.99900                       0.55700     0.32200   \n",
       "..                       ...                           ...         ...   \n",
       "153                  0.42864                       0.59201     0.22628   \n",
       "154                  0.31910                       0.48450     0.18260   \n",
       "155                  0.72193                       0.15684     0.47179   \n",
       "156                  0.22396                       0.11850     0.19727   \n",
       "157                  0.28443                       0.36453     0.16681   \n",
       "\n",
       "     Perceptions of corruption  Year  Trust (Government Corruption)  \n",
       "0                        0.393  2019                            NaN  \n",
       "1                        0.410  2019                            NaN  \n",
       "2                        0.341  2019                            NaN  \n",
       "3                        0.118  2019                            NaN  \n",
       "4                        0.298  2019                            NaN  \n",
       "..                         ...   ...                            ...  \n",
       "153                        NaN  2015                        0.55191  \n",
       "154                        NaN  2015                        0.08010  \n",
       "155                        NaN  2015                        0.18906  \n",
       "156                        NaN  2015                        0.10062  \n",
       "157                        NaN  2015                        0.10731  \n",
       "\n",
       "[782 rows x 11 columns]"
      ]
     },
     "execution_count": 10,
     "metadata": {},
     "output_type": "execute_result"
    }
   ],
   "source": [
    "reports_2015_a_2019"
   ]
  },
  {
   "cell_type": "code",
   "execution_count": 11,
   "metadata": {},
   "outputs": [
    {
     "data": {
      "text/html": [
       "<div>\n",
       "<style scoped>\n",
       "    .dataframe tbody tr th:only-of-type {\n",
       "        vertical-align: middle;\n",
       "    }\n",
       "\n",
       "    .dataframe tbody tr th {\n",
       "        vertical-align: top;\n",
       "    }\n",
       "\n",
       "    .dataframe thead th {\n",
       "        text-align: right;\n",
       "    }\n",
       "</style>\n",
       "<table border=\"1\" class=\"dataframe\">\n",
       "  <thead>\n",
       "    <tr style=\"text-align: right;\">\n",
       "      <th></th>\n",
       "      <th>Overall rank</th>\n",
       "      <th>Country</th>\n",
       "      <th>Score</th>\n",
       "      <th>GDP per capita</th>\n",
       "      <th>Social support</th>\n",
       "      <th>Healthy life expectancy</th>\n",
       "      <th>Freedom to make life choices</th>\n",
       "      <th>Generosity</th>\n",
       "      <th>Perceptions of corruption</th>\n",
       "      <th>Year</th>\n",
       "      <th>Trust (Government Corruption)</th>\n",
       "    </tr>\n",
       "  </thead>\n",
       "  <tbody>\n",
       "    <tr>\n",
       "      <th>152</th>\n",
       "      <td>153</td>\n",
       "      <td>Afghanistan</td>\n",
       "      <td>NaN</td>\n",
       "      <td>0.319820</td>\n",
       "      <td>0.302850</td>\n",
       "      <td>0.303350</td>\n",
       "      <td>0.234140</td>\n",
       "      <td>0.365100</td>\n",
       "      <td>NaN</td>\n",
       "      <td>2015</td>\n",
       "      <td>0.097190</td>\n",
       "    </tr>\n",
       "    <tr>\n",
       "      <th>153</th>\n",
       "      <td>154</td>\n",
       "      <td>Afghanistan</td>\n",
       "      <td>3.360</td>\n",
       "      <td>0.382270</td>\n",
       "      <td>0.110370</td>\n",
       "      <td>0.173440</td>\n",
       "      <td>0.164300</td>\n",
       "      <td>0.312680</td>\n",
       "      <td>NaN</td>\n",
       "      <td>2016</td>\n",
       "      <td>0.071120</td>\n",
       "    </tr>\n",
       "    <tr>\n",
       "      <th>140</th>\n",
       "      <td>141</td>\n",
       "      <td>Afghanistan</td>\n",
       "      <td>3.794</td>\n",
       "      <td>0.401477</td>\n",
       "      <td>0.581543</td>\n",
       "      <td>0.180747</td>\n",
       "      <td>0.106180</td>\n",
       "      <td>0.311871</td>\n",
       "      <td>NaN</td>\n",
       "      <td>2017</td>\n",
       "      <td>0.061158</td>\n",
       "    </tr>\n",
       "    <tr>\n",
       "      <th>144</th>\n",
       "      <td>145</td>\n",
       "      <td>Afghanistan</td>\n",
       "      <td>3.632</td>\n",
       "      <td>0.332000</td>\n",
       "      <td>0.537000</td>\n",
       "      <td>0.255000</td>\n",
       "      <td>0.085000</td>\n",
       "      <td>0.191000</td>\n",
       "      <td>0.036</td>\n",
       "      <td>2018</td>\n",
       "      <td>NaN</td>\n",
       "    </tr>\n",
       "    <tr>\n",
       "      <th>153</th>\n",
       "      <td>154</td>\n",
       "      <td>Afghanistan</td>\n",
       "      <td>3.203</td>\n",
       "      <td>0.350000</td>\n",
       "      <td>0.517000</td>\n",
       "      <td>0.361000</td>\n",
       "      <td>0.000000</td>\n",
       "      <td>0.158000</td>\n",
       "      <td>0.025</td>\n",
       "      <td>2019</td>\n",
       "      <td>NaN</td>\n",
       "    </tr>\n",
       "    <tr>\n",
       "      <th>...</th>\n",
       "      <td>...</td>\n",
       "      <td>...</td>\n",
       "      <td>...</td>\n",
       "      <td>...</td>\n",
       "      <td>...</td>\n",
       "      <td>...</td>\n",
       "      <td>...</td>\n",
       "      <td>...</td>\n",
       "      <td>...</td>\n",
       "      <td>...</td>\n",
       "      <td>...</td>\n",
       "    </tr>\n",
       "    <tr>\n",
       "      <th>114</th>\n",
       "      <td>115</td>\n",
       "      <td>Zimbabwe</td>\n",
       "      <td>NaN</td>\n",
       "      <td>0.271000</td>\n",
       "      <td>1.032760</td>\n",
       "      <td>0.334750</td>\n",
       "      <td>0.258610</td>\n",
       "      <td>0.189870</td>\n",
       "      <td>NaN</td>\n",
       "      <td>2015</td>\n",
       "      <td>0.080790</td>\n",
       "    </tr>\n",
       "    <tr>\n",
       "      <th>130</th>\n",
       "      <td>131</td>\n",
       "      <td>Zimbabwe</td>\n",
       "      <td>4.193</td>\n",
       "      <td>0.350410</td>\n",
       "      <td>0.714780</td>\n",
       "      <td>0.159500</td>\n",
       "      <td>0.254290</td>\n",
       "      <td>0.185030</td>\n",
       "      <td>NaN</td>\n",
       "      <td>2016</td>\n",
       "      <td>0.085820</td>\n",
       "    </tr>\n",
       "    <tr>\n",
       "      <th>137</th>\n",
       "      <td>138</td>\n",
       "      <td>Zimbabwe</td>\n",
       "      <td>3.875</td>\n",
       "      <td>0.375847</td>\n",
       "      <td>1.083096</td>\n",
       "      <td>0.196764</td>\n",
       "      <td>0.336384</td>\n",
       "      <td>0.189143</td>\n",
       "      <td>NaN</td>\n",
       "      <td>2017</td>\n",
       "      <td>0.095375</td>\n",
       "    </tr>\n",
       "    <tr>\n",
       "      <th>143</th>\n",
       "      <td>144</td>\n",
       "      <td>Zimbabwe</td>\n",
       "      <td>3.692</td>\n",
       "      <td>0.357000</td>\n",
       "      <td>1.094000</td>\n",
       "      <td>0.248000</td>\n",
       "      <td>0.406000</td>\n",
       "      <td>0.132000</td>\n",
       "      <td>0.099</td>\n",
       "      <td>2018</td>\n",
       "      <td>NaN</td>\n",
       "    </tr>\n",
       "    <tr>\n",
       "      <th>145</th>\n",
       "      <td>146</td>\n",
       "      <td>Zimbabwe</td>\n",
       "      <td>3.663</td>\n",
       "      <td>0.366000</td>\n",
       "      <td>1.114000</td>\n",
       "      <td>0.433000</td>\n",
       "      <td>0.361000</td>\n",
       "      <td>0.151000</td>\n",
       "      <td>0.089</td>\n",
       "      <td>2019</td>\n",
       "      <td>NaN</td>\n",
       "    </tr>\n",
       "  </tbody>\n",
       "</table>\n",
       "<p>782 rows × 11 columns</p>\n",
       "</div>"
      ],
      "text/plain": [
       "     Overall rank      Country  Score  GDP per capita  Social support  \\\n",
       "152           153  Afghanistan    NaN        0.319820        0.302850   \n",
       "153           154  Afghanistan  3.360        0.382270        0.110370   \n",
       "140           141  Afghanistan  3.794        0.401477        0.581543   \n",
       "144           145  Afghanistan  3.632        0.332000        0.537000   \n",
       "153           154  Afghanistan  3.203        0.350000        0.517000   \n",
       "..            ...          ...    ...             ...             ...   \n",
       "114           115     Zimbabwe    NaN        0.271000        1.032760   \n",
       "130           131     Zimbabwe  4.193        0.350410        0.714780   \n",
       "137           138     Zimbabwe  3.875        0.375847        1.083096   \n",
       "143           144     Zimbabwe  3.692        0.357000        1.094000   \n",
       "145           146     Zimbabwe  3.663        0.366000        1.114000   \n",
       "\n",
       "     Healthy life expectancy  Freedom to make life choices  Generosity  \\\n",
       "152                 0.303350                      0.234140    0.365100   \n",
       "153                 0.173440                      0.164300    0.312680   \n",
       "140                 0.180747                      0.106180    0.311871   \n",
       "144                 0.255000                      0.085000    0.191000   \n",
       "153                 0.361000                      0.000000    0.158000   \n",
       "..                       ...                           ...         ...   \n",
       "114                 0.334750                      0.258610    0.189870   \n",
       "130                 0.159500                      0.254290    0.185030   \n",
       "137                 0.196764                      0.336384    0.189143   \n",
       "143                 0.248000                      0.406000    0.132000   \n",
       "145                 0.433000                      0.361000    0.151000   \n",
       "\n",
       "     Perceptions of corruption  Year  Trust (Government Corruption)  \n",
       "152                        NaN  2015                       0.097190  \n",
       "153                        NaN  2016                       0.071120  \n",
       "140                        NaN  2017                       0.061158  \n",
       "144                      0.036  2018                            NaN  \n",
       "153                      0.025  2019                            NaN  \n",
       "..                         ...   ...                            ...  \n",
       "114                        NaN  2015                       0.080790  \n",
       "130                        NaN  2016                       0.085820  \n",
       "137                        NaN  2017                       0.095375  \n",
       "143                      0.099  2018                            NaN  \n",
       "145                      0.089  2019                            NaN  \n",
       "\n",
       "[782 rows x 11 columns]"
      ]
     },
     "execution_count": 11,
     "metadata": {},
     "output_type": "execute_result"
    }
   ],
   "source": [
    "#Organizando para que os os indicadores anuais para cada pais apareçam na sequência\n",
    "reports_2015_a_2019.sort_values(by=['Country','Year'],inplace=True)\n",
    "reports_2015_a_2019"
   ]
  },
  {
   "cell_type": "markdown",
   "metadata": {},
   "source": [
    "# Plotagem de Mapas"
   ]
  },
  {
   "cell_type": "code",
   "execution_count": 12,
   "metadata": {},
   "outputs": [],
   "source": [
    "#Adicionando os códigos dos países nos reports para possibilitar a plotagem de mapas\n",
    "#Os países serão identificados nos mapa pelos seus códigos\n",
    "\n",
    "def gerar_codigo_pais(coluna):\n",
    "    '''\n",
    "    Função que gera o código do país a partir do seu nome. Esse códigos são necessários para a criação de mapas\n",
    "\n",
    "    Inputs:\n",
    "        Coluna de um pandas dataframe com nomes de países\n",
    "\n",
    "    Outputs:\n",
    "        Python list com os códigos dos países\n",
    "    '''\n",
    "    codigo=[]\n",
    "    for nome_pais in coluna:\n",
    "        try:\n",
    "            codigo.append(pycountry.countries.get(name=nome_pais).alpha_3)\n",
    "            #alpha_3 é para gerar um código de três letras\n",
    "        except:\n",
    "            codigo.append(None)\n",
    "    return codigo\n",
    "        "
   ]
  },
  {
   "cell_type": "code",
   "execution_count": 39,
   "metadata": {},
   "outputs": [],
   "source": [
    "#Adicionando a coluna com o código do pais nos reports\n",
    "for ano in reports.keys():\n",
    "    reports[ano]['Country_Code']=gerar_codigo_pais(reports[ano]['Country'])\n"
   ]
  },
  {
   "cell_type": "markdown",
   "metadata": {},
   "source": [
    "### Mapas com indicadores para ano selecionado"
   ]
  },
  {
   "cell_type": "markdown",
   "metadata": {},
   "source": [
    "Geração dos mapas:\n",
    "\n",
    "- Os mapas podem ser gerados para os reports anuais. Os anos disponíveis estão entre 2015 e 2019;\n",
    "- Os mapas podem ser gerados para os seguintes indicadores:\n",
    "\n",
    "    - Overall rank;\n",
    "    - Healthy life expectancy\t\n",
    "    - Score;\n",
    "    - Freedom to make life choices;\n",
    "    - Generosity;\n",
    "    - Perceptions of corruption;\n",
    "    - GDP per capita;\n",
    "    - Social support.\n"
   ]
  },
  {
   "cell_type": "code",
   "execution_count": 47,
   "metadata": {},
   "outputs": [],
   "source": [
    "def gerar_mapa(ano,indicador,projecao='natural earth'):\n",
    "    '''\n",
    "    Função para gerar o mapa mundi com cada país colorido de acordo com o valor do indicador selecionado\n",
    "\n",
    "    ano       - (str) Ano do report entre 2015 e 2019. Refere-se ao ano dos indicadores.\n",
    "    indicador - (str) Indicador que será mostrado no mapa. Indicadores aceitos:  overall rank, score, freedom to make life choices, generosity, perceptions of corruption , \n",
    "    GDP per capita, social support.\n",
    "    '''\n",
    "    if ano not in ['2015','2016','2017','2018','2019']:\n",
    "        raise Exception('Report indisponivel. Os reports disponíveis são os dos anos 2015 a 2019')\n",
    "    if indicador not in ['Overall rank','Score','Freedom to make life choices','Generosity','Perceptions of corruption','GDP per capita','Social support','Healthy life expectancy']:\n",
    "        raise Exception('Indicador não conhecido')\n",
    "    if indicador=='Perceptions of corruption' and ano not in ['2019','2018']:\n",
    "        indicador='Trust (Government Corruption)'\n",
    "    fig = px.choropleth(reports[ano], locations='Country_Code', color=indicador, hover_name='Country',\n",
    "                    projection=projecao, title=indicador+' '+ano)\n",
    "    fig.show()\n"
   ]
  },
  {
   "cell_type": "code",
   "execution_count": 46,
   "metadata": {},
   "outputs": [
    {
     "data": {
      "application/vnd.plotly.v1+json": {
       "config": {
        "plotlyServerURL": "https://plot.ly"
       },
       "data": [
        {
         "coloraxis": "coloraxis",
         "geo": "geo",
         "hovertemplate": "<b>%{hovertext}</b><br><br>Country_Code=%{location}<br>Trust (Government Corruption)=%{z}<extra></extra>",
         "hovertext": [
          "Norway",
          "Denmark",
          "Iceland",
          "Switzerland",
          "Finland",
          "Netherlands",
          "Canada",
          "New Zealand",
          "Sweden",
          "Australia",
          "Israel",
          "Costa Rica",
          "Austria",
          "United States",
          "Ireland",
          "Germany",
          "Belgium",
          "Luxembourg",
          "United Kingdom",
          "Chile",
          "United Arab Emirates",
          "Brazil",
          "Czech Republic",
          "Argentina",
          "Mexico",
          "Singapore",
          "Malta",
          "Uruguay",
          "Guatemala",
          "Panama",
          "France",
          "Thailand",
          "Taiwan Province of China",
          "Spain",
          "Qatar",
          "Colombia",
          "Saudi Arabia",
          "Trinidad and Tobago",
          "Kuwait",
          "Slovakia",
          "Bahrain",
          "Malaysia",
          "Nicaragua",
          "Ecuador",
          "El Salvador",
          "Poland",
          "Uzbekistan",
          "Italy",
          "Russia",
          "Belize",
          "Japan",
          "Lithuania",
          "Algeria",
          "Latvia",
          "South Korea",
          "Moldova",
          "Romania",
          "Bolivia",
          "Turkmenistan",
          "Kazakhstan",
          "North Cyprus",
          "Slovenia",
          "Peru",
          "Mauritius",
          "Cyprus",
          "Estonia",
          "Belarus",
          "Libya",
          "Turkey",
          "Paraguay",
          "Hong Kong S.A.R., China",
          "Philippines",
          "Serbia",
          "Jordan",
          "Hungary",
          "Jamaica",
          "Croatia",
          "Kosovo",
          "China",
          "Pakistan",
          "Indonesia",
          "Venezuela",
          "Montenegro",
          "Morocco",
          "Azerbaijan",
          "Dominican Republic",
          "Greece",
          "Lebanon",
          "Portugal",
          "Bosnia and Herzegovina",
          "Honduras",
          "Macedonia",
          "Somalia",
          "Vietnam",
          "Nigeria",
          "Tajikistan",
          "Bhutan",
          "Kyrgyzstan",
          "Nepal",
          "Mongolia",
          "South Africa",
          "Tunisia",
          "Palestinian Territories",
          "Egypt",
          "Bulgaria",
          "Sierra Leone",
          "Cameroon",
          "Iran",
          "Albania",
          "Bangladesh",
          "Namibia",
          "Kenya",
          "Mozambique",
          "Myanmar",
          "Senegal",
          "Zambia",
          "Iraq",
          "Gabon",
          "Ethiopia",
          "Sri Lanka",
          "Armenia",
          "India",
          "Mauritania",
          "Congo (Brazzaville)",
          "Georgia",
          "Congo (Kinshasa)",
          "Mali",
          "Ivory Coast",
          "Cambodia",
          "Sudan",
          "Ghana",
          "Ukraine",
          "Uganda",
          "Burkina Faso",
          "Niger",
          "Malawi",
          "Chad",
          "Zimbabwe",
          "Lesotho",
          "Angola",
          "Afghanistan",
          "Botswana",
          "Benin",
          "Madagascar",
          "Haiti",
          "Yemen",
          "South Sudan",
          "Liberia",
          "Guinea",
          "Togo",
          "Rwanda",
          "Syria",
          "Tanzania",
          "Burundi",
          "Central African Republic"
         ],
         "locations": [
          "NOR",
          "DNK",
          "ISL",
          "CHE",
          "FIN",
          "NLD",
          "CAN",
          "NZL",
          "SWE",
          "AUS",
          "ISR",
          "CRI",
          "AUT",
          "USA",
          "IRL",
          "DEU",
          "BEL",
          "LUX",
          "GBR",
          "CHL",
          "ARE",
          "BRA",
          null,
          "ARG",
          "MEX",
          "SGP",
          "MLT",
          "URY",
          "GTM",
          "PAN",
          "FRA",
          "THA",
          null,
          "ESP",
          "QAT",
          "COL",
          "SAU",
          "TTO",
          "KWT",
          "SVK",
          "BHR",
          "MYS",
          "NIC",
          "ECU",
          "SLV",
          "POL",
          "UZB",
          "ITA",
          null,
          "BLZ",
          "JPN",
          "LTU",
          "DZA",
          "LVA",
          null,
          null,
          "ROU",
          null,
          "TKM",
          "KAZ",
          null,
          "SVN",
          "PER",
          "MUS",
          "CYP",
          "EST",
          "BLR",
          "LBY",
          null,
          "PRY",
          null,
          "PHL",
          "SRB",
          "JOR",
          "HUN",
          "JAM",
          "HRV",
          null,
          "CHN",
          "PAK",
          "IDN",
          null,
          "MNE",
          "MAR",
          "AZE",
          "DOM",
          "GRC",
          "LBN",
          "PRT",
          "BIH",
          "HND",
          null,
          "SOM",
          null,
          "NGA",
          "TJK",
          "BTN",
          "KGZ",
          "NPL",
          "MNG",
          "ZAF",
          "TUN",
          null,
          "EGY",
          "BGR",
          "SLE",
          "CMR",
          null,
          "ALB",
          "BGD",
          "NAM",
          "KEN",
          "MOZ",
          "MMR",
          "SEN",
          "ZMB",
          "IRQ",
          "GAB",
          "ETH",
          "LKA",
          "ARM",
          "IND",
          "MRT",
          null,
          "GEO",
          null,
          "MLI",
          null,
          "KHM",
          "SDN",
          "GHA",
          "UKR",
          "UGA",
          "BFA",
          "NER",
          "MWI",
          "TCD",
          "ZWE",
          "LSO",
          "AGO",
          "AFG",
          "BWA",
          "BEN",
          "MDG",
          "HTI",
          "YEM",
          "SSD",
          "LBR",
          "GIN",
          "TGO",
          "RWA",
          null,
          null,
          "BDI",
          "CAF"
         ],
         "name": "",
         "type": "choropleth",
         "z": [
          0.315963834524155,
          0.40077006816864,
          0.153526559472084,
          0.367007285356522,
          0.38261154294014,
          0.282661825418472,
          0.287371516227722,
          0.382816702127457,
          0.384398728609085,
          0.301183730363846,
          0.0852421000599861,
          0.100106589496136,
          0.221060365438461,
          0.135638788342476,
          0.29838815331459,
          0.276731938123703,
          0.251343131065369,
          0.31883442401886,
          0.265428066253662,
          0.0822879821062088,
          0.324489563703537,
          0.111092761158943,
          0.0368729270994663,
          0.059739887714386,
          0.132774114608765,
          0.46430778503418,
          0.153066068887711,
          0.178061872720718,
          0.0772232785820961,
          0.070983923971653,
          0.172502428293228,
          0.0316127352416515,
          0.0638292357325554,
          0.0709140971302986,
          0.439299255609512,
          0.0466687418520451,
          0.27343225479126,
          0.0089648161083459,
          0.215159550309181,
          0.0242108516395092,
          0.257042169570923,
          0.0656007081270218,
          0.130687981843948,
          0.140134647488594,
          0.0899809598922729,
          0.0593078061938286,
          0.246528223156929,
          0.0280280914157629,
          0.0329628810286522,
          0.0965810716152191,
          0.163760736584663,
          0.0118656428530812,
          0.146096110343933,
          0.0738427266478539,
          0.0632826685905457,
          0.0100912861526012,
          0.00438790069893,
          0.0604777261614799,
          0.259270340204239,
          0.119282886385918,
          0.155353352427483,
          0.0451289787888527,
          0.0470490865409374,
          0.0421815551817417,
          0.0412379764020443,
          0.183248922228813,
          0.156313821673393,
          0.0926102101802826,
          0.0996715798974037,
          0.091065913438797,
          0.293933749198914,
          0.0993318930268288,
          0.0409037806093693,
          0.11980327218771,
          0.0366369374096394,
          0.0552677810192108,
          0.0431031100451946,
          0.0574716180562973,
          0.0227942746132612,
          0.124348066747189,
          0.0153171354904771,
          0.0644911229610443,
          0.0881741940975189,
          0.0877631828188896,
          0.180987507104874,
          0.113945253193378,
          0.04328977689147,
          0.037513829767704,
          0.0158694516867399,
          0,
          0.0733454525470734,
          0.0602777935564518,
          0.282410323619843,
          0.0876332372426987,
          0.0261215660721064,
          0.146377146244049,
          0.173380389809608,
          0.0394391790032387,
          0.0729755461215973,
          0.0329022891819477,
          0.0725094974040985,
          0.0867231488227844,
          0.0892826020717621,
          0.114381365478039,
          0.0110515309497714,
          0.0710951760411263,
          0.0513066314160824,
          0.048761073499918,
          0.0398642159998417,
          0.123717859387398,
          0.0931469723582268,
          0.0646413192152977,
          0.179436385631561,
          0.188816204667091,
          0.115460447967052,
          0.0782135501503944,
          0.107215754687786,
          0.0760467872023582,
          0.165455713868141,
          0.0736539661884308,
          0.0266744215041399,
          0.0922268852591515,
          0.136957004666328,
          0.0796181336045265,
          0.251666635274887,
          0.0602413564920425,
          0.104970246553421,
          0.130061775445938,
          0.0681059509515762,
          0.089847519993782,
          0.0253363698720932,
          0.0230294708162546,
          0.057069718837738,
          0.120328105986118,
          0.138572946190834,
          0.0727116540074348,
          0.0535818822681904,
          0.0953753814101219,
          0.119094640016556,
          0.0697203353047371,
          0.0611578300595284,
          0.0985831990838051,
          0.0609290152788162,
          0.0672319754958153,
          0.0998721495270729,
          0.0567674227058887,
          0.116793513298035,
          0.0389482490718365,
          0.110937617719173,
          0.0956650152802467,
          0.455220013856888,
          0.151347130537033,
          0.0660351067781448,
          0.0841479450464249,
          0.0565650761127472
         ]
        }
       ],
       "layout": {
        "coloraxis": {
         "colorbar": {
          "title": {
           "text": "Trust (Government Corruption)"
          }
         },
         "colorscale": [
          [
           0,
           "#0d0887"
          ],
          [
           0.1111111111111111,
           "#46039f"
          ],
          [
           0.2222222222222222,
           "#7201a8"
          ],
          [
           0.3333333333333333,
           "#9c179e"
          ],
          [
           0.4444444444444444,
           "#bd3786"
          ],
          [
           0.5555555555555556,
           "#d8576b"
          ],
          [
           0.6666666666666666,
           "#ed7953"
          ],
          [
           0.7777777777777778,
           "#fb9f3a"
          ],
          [
           0.8888888888888888,
           "#fdca26"
          ],
          [
           1,
           "#f0f921"
          ]
         ]
        },
        "geo": {
         "center": {},
         "domain": {
          "x": [
           0,
           1
          ],
          "y": [
           0,
           1
          ]
         },
         "projection": {
          "type": "natural earth"
         }
        },
        "legend": {
         "tracegroupgap": 0
        },
        "template": {
         "data": {
          "bar": [
           {
            "error_x": {
             "color": "#2a3f5f"
            },
            "error_y": {
             "color": "#2a3f5f"
            },
            "marker": {
             "line": {
              "color": "#E5ECF6",
              "width": 0.5
             },
             "pattern": {
              "fillmode": "overlay",
              "size": 10,
              "solidity": 0.2
             }
            },
            "type": "bar"
           }
          ],
          "barpolar": [
           {
            "marker": {
             "line": {
              "color": "#E5ECF6",
              "width": 0.5
             },
             "pattern": {
              "fillmode": "overlay",
              "size": 10,
              "solidity": 0.2
             }
            },
            "type": "barpolar"
           }
          ],
          "carpet": [
           {
            "aaxis": {
             "endlinecolor": "#2a3f5f",
             "gridcolor": "white",
             "linecolor": "white",
             "minorgridcolor": "white",
             "startlinecolor": "#2a3f5f"
            },
            "baxis": {
             "endlinecolor": "#2a3f5f",
             "gridcolor": "white",
             "linecolor": "white",
             "minorgridcolor": "white",
             "startlinecolor": "#2a3f5f"
            },
            "type": "carpet"
           }
          ],
          "choropleth": [
           {
            "colorbar": {
             "outlinewidth": 0,
             "ticks": ""
            },
            "type": "choropleth"
           }
          ],
          "contour": [
           {
            "colorbar": {
             "outlinewidth": 0,
             "ticks": ""
            },
            "colorscale": [
             [
              0,
              "#0d0887"
             ],
             [
              0.1111111111111111,
              "#46039f"
             ],
             [
              0.2222222222222222,
              "#7201a8"
             ],
             [
              0.3333333333333333,
              "#9c179e"
             ],
             [
              0.4444444444444444,
              "#bd3786"
             ],
             [
              0.5555555555555556,
              "#d8576b"
             ],
             [
              0.6666666666666666,
              "#ed7953"
             ],
             [
              0.7777777777777778,
              "#fb9f3a"
             ],
             [
              0.8888888888888888,
              "#fdca26"
             ],
             [
              1,
              "#f0f921"
             ]
            ],
            "type": "contour"
           }
          ],
          "contourcarpet": [
           {
            "colorbar": {
             "outlinewidth": 0,
             "ticks": ""
            },
            "type": "contourcarpet"
           }
          ],
          "heatmap": [
           {
            "colorbar": {
             "outlinewidth": 0,
             "ticks": ""
            },
            "colorscale": [
             [
              0,
              "#0d0887"
             ],
             [
              0.1111111111111111,
              "#46039f"
             ],
             [
              0.2222222222222222,
              "#7201a8"
             ],
             [
              0.3333333333333333,
              "#9c179e"
             ],
             [
              0.4444444444444444,
              "#bd3786"
             ],
             [
              0.5555555555555556,
              "#d8576b"
             ],
             [
              0.6666666666666666,
              "#ed7953"
             ],
             [
              0.7777777777777778,
              "#fb9f3a"
             ],
             [
              0.8888888888888888,
              "#fdca26"
             ],
             [
              1,
              "#f0f921"
             ]
            ],
            "type": "heatmap"
           }
          ],
          "heatmapgl": [
           {
            "colorbar": {
             "outlinewidth": 0,
             "ticks": ""
            },
            "colorscale": [
             [
              0,
              "#0d0887"
             ],
             [
              0.1111111111111111,
              "#46039f"
             ],
             [
              0.2222222222222222,
              "#7201a8"
             ],
             [
              0.3333333333333333,
              "#9c179e"
             ],
             [
              0.4444444444444444,
              "#bd3786"
             ],
             [
              0.5555555555555556,
              "#d8576b"
             ],
             [
              0.6666666666666666,
              "#ed7953"
             ],
             [
              0.7777777777777778,
              "#fb9f3a"
             ],
             [
              0.8888888888888888,
              "#fdca26"
             ],
             [
              1,
              "#f0f921"
             ]
            ],
            "type": "heatmapgl"
           }
          ],
          "histogram": [
           {
            "marker": {
             "pattern": {
              "fillmode": "overlay",
              "size": 10,
              "solidity": 0.2
             }
            },
            "type": "histogram"
           }
          ],
          "histogram2d": [
           {
            "colorbar": {
             "outlinewidth": 0,
             "ticks": ""
            },
            "colorscale": [
             [
              0,
              "#0d0887"
             ],
             [
              0.1111111111111111,
              "#46039f"
             ],
             [
              0.2222222222222222,
              "#7201a8"
             ],
             [
              0.3333333333333333,
              "#9c179e"
             ],
             [
              0.4444444444444444,
              "#bd3786"
             ],
             [
              0.5555555555555556,
              "#d8576b"
             ],
             [
              0.6666666666666666,
              "#ed7953"
             ],
             [
              0.7777777777777778,
              "#fb9f3a"
             ],
             [
              0.8888888888888888,
              "#fdca26"
             ],
             [
              1,
              "#f0f921"
             ]
            ],
            "type": "histogram2d"
           }
          ],
          "histogram2dcontour": [
           {
            "colorbar": {
             "outlinewidth": 0,
             "ticks": ""
            },
            "colorscale": [
             [
              0,
              "#0d0887"
             ],
             [
              0.1111111111111111,
              "#46039f"
             ],
             [
              0.2222222222222222,
              "#7201a8"
             ],
             [
              0.3333333333333333,
              "#9c179e"
             ],
             [
              0.4444444444444444,
              "#bd3786"
             ],
             [
              0.5555555555555556,
              "#d8576b"
             ],
             [
              0.6666666666666666,
              "#ed7953"
             ],
             [
              0.7777777777777778,
              "#fb9f3a"
             ],
             [
              0.8888888888888888,
              "#fdca26"
             ],
             [
              1,
              "#f0f921"
             ]
            ],
            "type": "histogram2dcontour"
           }
          ],
          "mesh3d": [
           {
            "colorbar": {
             "outlinewidth": 0,
             "ticks": ""
            },
            "type": "mesh3d"
           }
          ],
          "parcoords": [
           {
            "line": {
             "colorbar": {
              "outlinewidth": 0,
              "ticks": ""
             }
            },
            "type": "parcoords"
           }
          ],
          "pie": [
           {
            "automargin": true,
            "type": "pie"
           }
          ],
          "scatter": [
           {
            "fillpattern": {
             "fillmode": "overlay",
             "size": 10,
             "solidity": 0.2
            },
            "type": "scatter"
           }
          ],
          "scatter3d": [
           {
            "line": {
             "colorbar": {
              "outlinewidth": 0,
              "ticks": ""
             }
            },
            "marker": {
             "colorbar": {
              "outlinewidth": 0,
              "ticks": ""
             }
            },
            "type": "scatter3d"
           }
          ],
          "scattercarpet": [
           {
            "marker": {
             "colorbar": {
              "outlinewidth": 0,
              "ticks": ""
             }
            },
            "type": "scattercarpet"
           }
          ],
          "scattergeo": [
           {
            "marker": {
             "colorbar": {
              "outlinewidth": 0,
              "ticks": ""
             }
            },
            "type": "scattergeo"
           }
          ],
          "scattergl": [
           {
            "marker": {
             "colorbar": {
              "outlinewidth": 0,
              "ticks": ""
             }
            },
            "type": "scattergl"
           }
          ],
          "scattermapbox": [
           {
            "marker": {
             "colorbar": {
              "outlinewidth": 0,
              "ticks": ""
             }
            },
            "type": "scattermapbox"
           }
          ],
          "scatterpolar": [
           {
            "marker": {
             "colorbar": {
              "outlinewidth": 0,
              "ticks": ""
             }
            },
            "type": "scatterpolar"
           }
          ],
          "scatterpolargl": [
           {
            "marker": {
             "colorbar": {
              "outlinewidth": 0,
              "ticks": ""
             }
            },
            "type": "scatterpolargl"
           }
          ],
          "scatterternary": [
           {
            "marker": {
             "colorbar": {
              "outlinewidth": 0,
              "ticks": ""
             }
            },
            "type": "scatterternary"
           }
          ],
          "surface": [
           {
            "colorbar": {
             "outlinewidth": 0,
             "ticks": ""
            },
            "colorscale": [
             [
              0,
              "#0d0887"
             ],
             [
              0.1111111111111111,
              "#46039f"
             ],
             [
              0.2222222222222222,
              "#7201a8"
             ],
             [
              0.3333333333333333,
              "#9c179e"
             ],
             [
              0.4444444444444444,
              "#bd3786"
             ],
             [
              0.5555555555555556,
              "#d8576b"
             ],
             [
              0.6666666666666666,
              "#ed7953"
             ],
             [
              0.7777777777777778,
              "#fb9f3a"
             ],
             [
              0.8888888888888888,
              "#fdca26"
             ],
             [
              1,
              "#f0f921"
             ]
            ],
            "type": "surface"
           }
          ],
          "table": [
           {
            "cells": {
             "fill": {
              "color": "#EBF0F8"
             },
             "line": {
              "color": "white"
             }
            },
            "header": {
             "fill": {
              "color": "#C8D4E3"
             },
             "line": {
              "color": "white"
             }
            },
            "type": "table"
           }
          ]
         },
         "layout": {
          "annotationdefaults": {
           "arrowcolor": "#2a3f5f",
           "arrowhead": 0,
           "arrowwidth": 1
          },
          "autotypenumbers": "strict",
          "coloraxis": {
           "colorbar": {
            "outlinewidth": 0,
            "ticks": ""
           }
          },
          "colorscale": {
           "diverging": [
            [
             0,
             "#8e0152"
            ],
            [
             0.1,
             "#c51b7d"
            ],
            [
             0.2,
             "#de77ae"
            ],
            [
             0.3,
             "#f1b6da"
            ],
            [
             0.4,
             "#fde0ef"
            ],
            [
             0.5,
             "#f7f7f7"
            ],
            [
             0.6,
             "#e6f5d0"
            ],
            [
             0.7,
             "#b8e186"
            ],
            [
             0.8,
             "#7fbc41"
            ],
            [
             0.9,
             "#4d9221"
            ],
            [
             1,
             "#276419"
            ]
           ],
           "sequential": [
            [
             0,
             "#0d0887"
            ],
            [
             0.1111111111111111,
             "#46039f"
            ],
            [
             0.2222222222222222,
             "#7201a8"
            ],
            [
             0.3333333333333333,
             "#9c179e"
            ],
            [
             0.4444444444444444,
             "#bd3786"
            ],
            [
             0.5555555555555556,
             "#d8576b"
            ],
            [
             0.6666666666666666,
             "#ed7953"
            ],
            [
             0.7777777777777778,
             "#fb9f3a"
            ],
            [
             0.8888888888888888,
             "#fdca26"
            ],
            [
             1,
             "#f0f921"
            ]
           ],
           "sequentialminus": [
            [
             0,
             "#0d0887"
            ],
            [
             0.1111111111111111,
             "#46039f"
            ],
            [
             0.2222222222222222,
             "#7201a8"
            ],
            [
             0.3333333333333333,
             "#9c179e"
            ],
            [
             0.4444444444444444,
             "#bd3786"
            ],
            [
             0.5555555555555556,
             "#d8576b"
            ],
            [
             0.6666666666666666,
             "#ed7953"
            ],
            [
             0.7777777777777778,
             "#fb9f3a"
            ],
            [
             0.8888888888888888,
             "#fdca26"
            ],
            [
             1,
             "#f0f921"
            ]
           ]
          },
          "colorway": [
           "#636efa",
           "#EF553B",
           "#00cc96",
           "#ab63fa",
           "#FFA15A",
           "#19d3f3",
           "#FF6692",
           "#B6E880",
           "#FF97FF",
           "#FECB52"
          ],
          "font": {
           "color": "#2a3f5f"
          },
          "geo": {
           "bgcolor": "white",
           "lakecolor": "white",
           "landcolor": "#E5ECF6",
           "showlakes": true,
           "showland": true,
           "subunitcolor": "white"
          },
          "hoverlabel": {
           "align": "left"
          },
          "hovermode": "closest",
          "mapbox": {
           "style": "light"
          },
          "paper_bgcolor": "white",
          "plot_bgcolor": "#E5ECF6",
          "polar": {
           "angularaxis": {
            "gridcolor": "white",
            "linecolor": "white",
            "ticks": ""
           },
           "bgcolor": "#E5ECF6",
           "radialaxis": {
            "gridcolor": "white",
            "linecolor": "white",
            "ticks": ""
           }
          },
          "scene": {
           "xaxis": {
            "backgroundcolor": "#E5ECF6",
            "gridcolor": "white",
            "gridwidth": 2,
            "linecolor": "white",
            "showbackground": true,
            "ticks": "",
            "zerolinecolor": "white"
           },
           "yaxis": {
            "backgroundcolor": "#E5ECF6",
            "gridcolor": "white",
            "gridwidth": 2,
            "linecolor": "white",
            "showbackground": true,
            "ticks": "",
            "zerolinecolor": "white"
           },
           "zaxis": {
            "backgroundcolor": "#E5ECF6",
            "gridcolor": "white",
            "gridwidth": 2,
            "linecolor": "white",
            "showbackground": true,
            "ticks": "",
            "zerolinecolor": "white"
           }
          },
          "shapedefaults": {
           "line": {
            "color": "#2a3f5f"
           }
          },
          "ternary": {
           "aaxis": {
            "gridcolor": "white",
            "linecolor": "white",
            "ticks": ""
           },
           "baxis": {
            "gridcolor": "white",
            "linecolor": "white",
            "ticks": ""
           },
           "bgcolor": "#E5ECF6",
           "caxis": {
            "gridcolor": "white",
            "linecolor": "white",
            "ticks": ""
           }
          },
          "title": {
           "x": 0.05
          },
          "xaxis": {
           "automargin": true,
           "gridcolor": "white",
           "linecolor": "white",
           "ticks": "",
           "title": {
            "standoff": 15
           },
           "zerolinecolor": "white",
           "zerolinewidth": 2
          },
          "yaxis": {
           "automargin": true,
           "gridcolor": "white",
           "linecolor": "white",
           "ticks": "",
           "title": {
            "standoff": 15
           },
           "zerolinecolor": "white",
           "zerolinewidth": 2
          }
         }
        },
        "title": {
         "text": "Trust (Government Corruption) 2017"
        }
       }
      }
     },
     "metadata": {},
     "output_type": "display_data"
    }
   ],
   "source": [
    "#indicadores:['Overall rank','Score','Freedom to make life choices','Generosity','Perceptions of corruption','GDP per capita','Social support']\n",
    "gerar_mapa('2017','Perceptions of corruption')  \n",
    "\n",
    "#https://www.datacamp.com/tutorial/making-map-in-python-using-plotly-library-guide"
   ]
  },
  {
   "cell_type": "markdown",
   "metadata": {},
   "source": [
    "### Mapas com evolução do indicador selecionado ao longo dos anos"
   ]
  },
  {
   "cell_type": "code",
   "execution_count": null,
   "metadata": {},
   "outputs": [],
   "source": [
    "#Adicão da coluna com os códigos dos países"
   ]
  },
  {
   "cell_type": "markdown",
   "metadata": {},
   "source": [
    "# Evolução anual dos Indicadores"
   ]
  },
  {
   "cell_type": "markdown",
   "metadata": {},
   "source": [
    "reports['2019']"
   ]
  },
  {
   "cell_type": "markdown",
   "metadata": {},
   "source": []
  },
  {
   "cell_type": "code",
   "execution_count": 55,
   "metadata": {},
   "outputs": [
    {
     "data": {
      "text/html": [
       "<div>\n",
       "<style scoped>\n",
       "    .dataframe tbody tr th:only-of-type {\n",
       "        vertical-align: middle;\n",
       "    }\n",
       "\n",
       "    .dataframe tbody tr th {\n",
       "        vertical-align: top;\n",
       "    }\n",
       "\n",
       "    .dataframe thead th {\n",
       "        text-align: right;\n",
       "    }\n",
       "</style>\n",
       "<table border=\"1\" class=\"dataframe\">\n",
       "  <thead>\n",
       "    <tr style=\"text-align: right;\">\n",
       "      <th></th>\n",
       "      <th>Overall rank</th>\n",
       "      <th>Country</th>\n",
       "      <th>Score</th>\n",
       "      <th>GDP per capita</th>\n",
       "      <th>Social support</th>\n",
       "      <th>Healthy life expectancy</th>\n",
       "      <th>Freedom to make life choices</th>\n",
       "      <th>Generosity</th>\n",
       "      <th>Perceptions of corruption</th>\n",
       "      <th>Year</th>\n",
       "      <th>Country_Code</th>\n",
       "    </tr>\n",
       "  </thead>\n",
       "  <tbody>\n",
       "    <tr>\n",
       "      <th>0</th>\n",
       "      <td>1</td>\n",
       "      <td>Finland</td>\n",
       "      <td>7.769</td>\n",
       "      <td>1.340</td>\n",
       "      <td>1.587</td>\n",
       "      <td>0.986</td>\n",
       "      <td>0.596</td>\n",
       "      <td>0.153</td>\n",
       "      <td>0.393</td>\n",
       "      <td>2019</td>\n",
       "      <td>FIN</td>\n",
       "    </tr>\n",
       "    <tr>\n",
       "      <th>1</th>\n",
       "      <td>2</td>\n",
       "      <td>Denmark</td>\n",
       "      <td>7.600</td>\n",
       "      <td>1.383</td>\n",
       "      <td>1.573</td>\n",
       "      <td>0.996</td>\n",
       "      <td>0.592</td>\n",
       "      <td>0.252</td>\n",
       "      <td>0.410</td>\n",
       "      <td>2019</td>\n",
       "      <td>DNK</td>\n",
       "    </tr>\n",
       "    <tr>\n",
       "      <th>2</th>\n",
       "      <td>3</td>\n",
       "      <td>Norway</td>\n",
       "      <td>7.554</td>\n",
       "      <td>1.488</td>\n",
       "      <td>1.582</td>\n",
       "      <td>1.028</td>\n",
       "      <td>0.603</td>\n",
       "      <td>0.271</td>\n",
       "      <td>0.341</td>\n",
       "      <td>2019</td>\n",
       "      <td>NOR</td>\n",
       "    </tr>\n",
       "    <tr>\n",
       "      <th>3</th>\n",
       "      <td>4</td>\n",
       "      <td>Iceland</td>\n",
       "      <td>7.494</td>\n",
       "      <td>1.380</td>\n",
       "      <td>1.624</td>\n",
       "      <td>1.026</td>\n",
       "      <td>0.591</td>\n",
       "      <td>0.354</td>\n",
       "      <td>0.118</td>\n",
       "      <td>2019</td>\n",
       "      <td>ISL</td>\n",
       "    </tr>\n",
       "    <tr>\n",
       "      <th>4</th>\n",
       "      <td>5</td>\n",
       "      <td>Netherlands</td>\n",
       "      <td>7.488</td>\n",
       "      <td>1.396</td>\n",
       "      <td>1.522</td>\n",
       "      <td>0.999</td>\n",
       "      <td>0.557</td>\n",
       "      <td>0.322</td>\n",
       "      <td>0.298</td>\n",
       "      <td>2019</td>\n",
       "      <td>NLD</td>\n",
       "    </tr>\n",
       "    <tr>\n",
       "      <th>...</th>\n",
       "      <td>...</td>\n",
       "      <td>...</td>\n",
       "      <td>...</td>\n",
       "      <td>...</td>\n",
       "      <td>...</td>\n",
       "      <td>...</td>\n",
       "      <td>...</td>\n",
       "      <td>...</td>\n",
       "      <td>...</td>\n",
       "      <td>...</td>\n",
       "      <td>...</td>\n",
       "    </tr>\n",
       "    <tr>\n",
       "      <th>151</th>\n",
       "      <td>152</td>\n",
       "      <td>Rwanda</td>\n",
       "      <td>3.334</td>\n",
       "      <td>0.359</td>\n",
       "      <td>0.711</td>\n",
       "      <td>0.614</td>\n",
       "      <td>0.555</td>\n",
       "      <td>0.217</td>\n",
       "      <td>0.411</td>\n",
       "      <td>2019</td>\n",
       "      <td>RWA</td>\n",
       "    </tr>\n",
       "    <tr>\n",
       "      <th>152</th>\n",
       "      <td>153</td>\n",
       "      <td>Tanzania</td>\n",
       "      <td>3.231</td>\n",
       "      <td>0.476</td>\n",
       "      <td>0.885</td>\n",
       "      <td>0.499</td>\n",
       "      <td>0.417</td>\n",
       "      <td>0.276</td>\n",
       "      <td>0.147</td>\n",
       "      <td>2019</td>\n",
       "      <td>None</td>\n",
       "    </tr>\n",
       "    <tr>\n",
       "      <th>153</th>\n",
       "      <td>154</td>\n",
       "      <td>Afghanistan</td>\n",
       "      <td>3.203</td>\n",
       "      <td>0.350</td>\n",
       "      <td>0.517</td>\n",
       "      <td>0.361</td>\n",
       "      <td>0.000</td>\n",
       "      <td>0.158</td>\n",
       "      <td>0.025</td>\n",
       "      <td>2019</td>\n",
       "      <td>AFG</td>\n",
       "    </tr>\n",
       "    <tr>\n",
       "      <th>154</th>\n",
       "      <td>155</td>\n",
       "      <td>Central African Republic</td>\n",
       "      <td>3.083</td>\n",
       "      <td>0.026</td>\n",
       "      <td>0.000</td>\n",
       "      <td>0.105</td>\n",
       "      <td>0.225</td>\n",
       "      <td>0.235</td>\n",
       "      <td>0.035</td>\n",
       "      <td>2019</td>\n",
       "      <td>CAF</td>\n",
       "    </tr>\n",
       "    <tr>\n",
       "      <th>155</th>\n",
       "      <td>156</td>\n",
       "      <td>South Sudan</td>\n",
       "      <td>2.853</td>\n",
       "      <td>0.306</td>\n",
       "      <td>0.575</td>\n",
       "      <td>0.295</td>\n",
       "      <td>0.010</td>\n",
       "      <td>0.202</td>\n",
       "      <td>0.091</td>\n",
       "      <td>2019</td>\n",
       "      <td>SSD</td>\n",
       "    </tr>\n",
       "  </tbody>\n",
       "</table>\n",
       "<p>156 rows × 11 columns</p>\n",
       "</div>"
      ],
      "text/plain": [
       "     Overall rank                   Country  Score  GDP per capita  \\\n",
       "0               1                   Finland  7.769           1.340   \n",
       "1               2                   Denmark  7.600           1.383   \n",
       "2               3                    Norway  7.554           1.488   \n",
       "3               4                   Iceland  7.494           1.380   \n",
       "4               5               Netherlands  7.488           1.396   \n",
       "..            ...                       ...    ...             ...   \n",
       "151           152                    Rwanda  3.334           0.359   \n",
       "152           153                  Tanzania  3.231           0.476   \n",
       "153           154               Afghanistan  3.203           0.350   \n",
       "154           155  Central African Republic  3.083           0.026   \n",
       "155           156               South Sudan  2.853           0.306   \n",
       "\n",
       "     Social support  Healthy life expectancy  Freedom to make life choices  \\\n",
       "0             1.587                    0.986                         0.596   \n",
       "1             1.573                    0.996                         0.592   \n",
       "2             1.582                    1.028                         0.603   \n",
       "3             1.624                    1.026                         0.591   \n",
       "4             1.522                    0.999                         0.557   \n",
       "..              ...                      ...                           ...   \n",
       "151           0.711                    0.614                         0.555   \n",
       "152           0.885                    0.499                         0.417   \n",
       "153           0.517                    0.361                         0.000   \n",
       "154           0.000                    0.105                         0.225   \n",
       "155           0.575                    0.295                         0.010   \n",
       "\n",
       "     Generosity  Perceptions of corruption  Year Country_Code  \n",
       "0         0.153                      0.393  2019          FIN  \n",
       "1         0.252                      0.410  2019          DNK  \n",
       "2         0.271                      0.341  2019          NOR  \n",
       "3         0.354                      0.118  2019          ISL  \n",
       "4         0.322                      0.298  2019          NLD  \n",
       "..          ...                        ...   ...          ...  \n",
       "151       0.217                      0.411  2019          RWA  \n",
       "152       0.276                      0.147  2019         None  \n",
       "153       0.158                      0.025  2019          AFG  \n",
       "154       0.235                      0.035  2019          CAF  \n",
       "155       0.202                      0.091  2019          SSD  \n",
       "\n",
       "[156 rows x 11 columns]"
      ]
     },
     "execution_count": 55,
     "metadata": {},
     "output_type": "execute_result"
    }
   ],
   "source": [
    "reports['2019']"
   ]
  },
  {
   "cell_type": "code",
   "execution_count": 23,
   "metadata": {},
   "outputs": [
    {
     "data": {
      "text/plain": [
       "0.453"
      ]
     },
     "execution_count": 23,
     "metadata": {},
     "output_type": "execute_result"
    }
   ],
   "source": [
    "reports['2019'].loc[:,'Perceptions of corruption'].max()"
   ]
  },
  {
   "cell_type": "code",
   "execution_count": 38,
   "metadata": {},
   "outputs": [
    {
     "data": {
      "text/html": [
       "<div>\n",
       "<style scoped>\n",
       "    .dataframe tbody tr th:only-of-type {\n",
       "        vertical-align: middle;\n",
       "    }\n",
       "\n",
       "    .dataframe tbody tr th {\n",
       "        vertical-align: top;\n",
       "    }\n",
       "\n",
       "    .dataframe thead th {\n",
       "        text-align: right;\n",
       "    }\n",
       "</style>\n",
       "<table border=\"1\" class=\"dataframe\">\n",
       "  <thead>\n",
       "    <tr style=\"text-align: right;\">\n",
       "      <th></th>\n",
       "      <th>Country</th>\n",
       "      <th>Overall rank</th>\n",
       "      <th>Score</th>\n",
       "      <th>Whisker.high</th>\n",
       "      <th>Whisker.low</th>\n",
       "      <th>GDP per capita</th>\n",
       "      <th>Social support</th>\n",
       "      <th>Healthy life expectancy</th>\n",
       "      <th>Freedom to make life choices</th>\n",
       "      <th>Generosity</th>\n",
       "      <th>Trust (Government Corruption)</th>\n",
       "      <th>Dystopia.Residual</th>\n",
       "      <th>Year</th>\n",
       "      <th>Country_Code</th>\n",
       "    </tr>\n",
       "  </thead>\n",
       "  <tbody>\n",
       "    <tr>\n",
       "      <th>89</th>\n",
       "      <td>Bosnia and Herzegovina</td>\n",
       "      <td>90</td>\n",
       "      <td>5.182</td>\n",
       "      <td>5.276336</td>\n",
       "      <td>5.087665</td>\n",
       "      <td>0.982409</td>\n",
       "      <td>1.069336</td>\n",
       "      <td>0.705186</td>\n",
       "      <td>0.204403</td>\n",
       "      <td>0.328867</td>\n",
       "      <td>0.000000</td>\n",
       "      <td>1.892173</td>\n",
       "      <td>2017</td>\n",
       "      <td>BIH</td>\n",
       "    </tr>\n",
       "    <tr>\n",
       "      <th>56</th>\n",
       "      <td>Romania</td>\n",
       "      <td>57</td>\n",
       "      <td>5.825</td>\n",
       "      <td>5.919694</td>\n",
       "      <td>5.730305</td>\n",
       "      <td>1.217684</td>\n",
       "      <td>1.150091</td>\n",
       "      <td>0.685158</td>\n",
       "      <td>0.457004</td>\n",
       "      <td>0.133520</td>\n",
       "      <td>0.004388</td>\n",
       "      <td>2.176831</td>\n",
       "      <td>2017</td>\n",
       "      <td>ROU</td>\n",
       "    </tr>\n",
       "    <tr>\n",
       "      <th>37</th>\n",
       "      <td>Trinidad and Tobago</td>\n",
       "      <td>38</td>\n",
       "      <td>6.168</td>\n",
       "      <td>6.381534</td>\n",
       "      <td>5.954467</td>\n",
       "      <td>1.361356</td>\n",
       "      <td>1.380229</td>\n",
       "      <td>0.519983</td>\n",
       "      <td>0.518631</td>\n",
       "      <td>0.325296</td>\n",
       "      <td>0.008965</td>\n",
       "      <td>2.053247</td>\n",
       "      <td>2017</td>\n",
       "      <td>TTO</td>\n",
       "    </tr>\n",
       "    <tr>\n",
       "      <th>55</th>\n",
       "      <td>Moldova</td>\n",
       "      <td>56</td>\n",
       "      <td>5.838</td>\n",
       "      <td>5.908371</td>\n",
       "      <td>5.767629</td>\n",
       "      <td>0.728871</td>\n",
       "      <td>1.251826</td>\n",
       "      <td>0.589465</td>\n",
       "      <td>0.240729</td>\n",
       "      <td>0.208779</td>\n",
       "      <td>0.010091</td>\n",
       "      <td>2.807808</td>\n",
       "      <td>2017</td>\n",
       "      <td>None</td>\n",
       "    </tr>\n",
       "    <tr>\n",
       "      <th>104</th>\n",
       "      <td>Bulgaria</td>\n",
       "      <td>105</td>\n",
       "      <td>4.714</td>\n",
       "      <td>4.803695</td>\n",
       "      <td>4.624306</td>\n",
       "      <td>1.161459</td>\n",
       "      <td>1.434379</td>\n",
       "      <td>0.708218</td>\n",
       "      <td>0.289232</td>\n",
       "      <td>0.113178</td>\n",
       "      <td>0.011052</td>\n",
       "      <td>0.996139</td>\n",
       "      <td>2017</td>\n",
       "      <td>BGR</td>\n",
       "    </tr>\n",
       "    <tr>\n",
       "      <th>...</th>\n",
       "      <td>...</td>\n",
       "      <td>...</td>\n",
       "      <td>...</td>\n",
       "      <td>...</td>\n",
       "      <td>...</td>\n",
       "      <td>...</td>\n",
       "      <td>...</td>\n",
       "      <td>...</td>\n",
       "      <td>...</td>\n",
       "      <td>...</td>\n",
       "      <td>...</td>\n",
       "      <td>...</td>\n",
       "      <td>...</td>\n",
       "      <td>...</td>\n",
       "    </tr>\n",
       "    <tr>\n",
       "      <th>8</th>\n",
       "      <td>Sweden</td>\n",
       "      <td>9</td>\n",
       "      <td>7.284</td>\n",
       "      <td>7.344095</td>\n",
       "      <td>7.223905</td>\n",
       "      <td>1.494387</td>\n",
       "      <td>1.478162</td>\n",
       "      <td>0.830875</td>\n",
       "      <td>0.612924</td>\n",
       "      <td>0.385399</td>\n",
       "      <td>0.384399</td>\n",
       "      <td>2.097538</td>\n",
       "      <td>2017</td>\n",
       "      <td>SWE</td>\n",
       "    </tr>\n",
       "    <tr>\n",
       "      <th>1</th>\n",
       "      <td>Denmark</td>\n",
       "      <td>2</td>\n",
       "      <td>7.522</td>\n",
       "      <td>7.581728</td>\n",
       "      <td>7.462272</td>\n",
       "      <td>1.482383</td>\n",
       "      <td>1.551122</td>\n",
       "      <td>0.792566</td>\n",
       "      <td>0.626007</td>\n",
       "      <td>0.355280</td>\n",
       "      <td>0.400770</td>\n",
       "      <td>2.313707</td>\n",
       "      <td>2017</td>\n",
       "      <td>DNK</td>\n",
       "    </tr>\n",
       "    <tr>\n",
       "      <th>34</th>\n",
       "      <td>Qatar</td>\n",
       "      <td>35</td>\n",
       "      <td>6.375</td>\n",
       "      <td>6.568477</td>\n",
       "      <td>6.181523</td>\n",
       "      <td>1.870766</td>\n",
       "      <td>1.274297</td>\n",
       "      <td>0.710098</td>\n",
       "      <td>0.604131</td>\n",
       "      <td>0.330474</td>\n",
       "      <td>0.439299</td>\n",
       "      <td>1.145464</td>\n",
       "      <td>2017</td>\n",
       "      <td>QAT</td>\n",
       "    </tr>\n",
       "    <tr>\n",
       "      <th>150</th>\n",
       "      <td>Rwanda</td>\n",
       "      <td>151</td>\n",
       "      <td>3.471</td>\n",
       "      <td>3.543030</td>\n",
       "      <td>3.398970</td>\n",
       "      <td>0.368746</td>\n",
       "      <td>0.945707</td>\n",
       "      <td>0.326425</td>\n",
       "      <td>0.581844</td>\n",
       "      <td>0.252756</td>\n",
       "      <td>0.455220</td>\n",
       "      <td>0.540061</td>\n",
       "      <td>2017</td>\n",
       "      <td>RWA</td>\n",
       "    </tr>\n",
       "    <tr>\n",
       "      <th>25</th>\n",
       "      <td>Singapore</td>\n",
       "      <td>26</td>\n",
       "      <td>6.572</td>\n",
       "      <td>6.636723</td>\n",
       "      <td>6.507277</td>\n",
       "      <td>1.692278</td>\n",
       "      <td>1.353814</td>\n",
       "      <td>0.949492</td>\n",
       "      <td>0.549841</td>\n",
       "      <td>0.345966</td>\n",
       "      <td>0.464308</td>\n",
       "      <td>1.216362</td>\n",
       "      <td>2017</td>\n",
       "      <td>SGP</td>\n",
       "    </tr>\n",
       "  </tbody>\n",
       "</table>\n",
       "<p>155 rows × 14 columns</p>\n",
       "</div>"
      ],
      "text/plain": [
       "                    Country  Overall rank  Score  Whisker.high  Whisker.low  \\\n",
       "89   Bosnia and Herzegovina            90  5.182      5.276336     5.087665   \n",
       "56                  Romania            57  5.825      5.919694     5.730305   \n",
       "37      Trinidad and Tobago            38  6.168      6.381534     5.954467   \n",
       "55                  Moldova            56  5.838      5.908371     5.767629   \n",
       "104                Bulgaria           105  4.714      4.803695     4.624306   \n",
       "..                      ...           ...    ...           ...          ...   \n",
       "8                    Sweden             9  7.284      7.344095     7.223905   \n",
       "1                   Denmark             2  7.522      7.581728     7.462272   \n",
       "34                    Qatar            35  6.375      6.568477     6.181523   \n",
       "150                  Rwanda           151  3.471      3.543030     3.398970   \n",
       "25                Singapore            26  6.572      6.636723     6.507277   \n",
       "\n",
       "     GDP per capita  Social support  Healthy life expectancy  \\\n",
       "89         0.982409        1.069336                 0.705186   \n",
       "56         1.217684        1.150091                 0.685158   \n",
       "37         1.361356        1.380229                 0.519983   \n",
       "55         0.728871        1.251826                 0.589465   \n",
       "104        1.161459        1.434379                 0.708218   \n",
       "..              ...             ...                      ...   \n",
       "8          1.494387        1.478162                 0.830875   \n",
       "1          1.482383        1.551122                 0.792566   \n",
       "34         1.870766        1.274297                 0.710098   \n",
       "150        0.368746        0.945707                 0.326425   \n",
       "25         1.692278        1.353814                 0.949492   \n",
       "\n",
       "     Freedom to make life choices  Generosity  Trust (Government Corruption)  \\\n",
       "89                       0.204403    0.328867                       0.000000   \n",
       "56                       0.457004    0.133520                       0.004388   \n",
       "37                       0.518631    0.325296                       0.008965   \n",
       "55                       0.240729    0.208779                       0.010091   \n",
       "104                      0.289232    0.113178                       0.011052   \n",
       "..                            ...         ...                            ...   \n",
       "8                        0.612924    0.385399                       0.384399   \n",
       "1                        0.626007    0.355280                       0.400770   \n",
       "34                       0.604131    0.330474                       0.439299   \n",
       "150                      0.581844    0.252756                       0.455220   \n",
       "25                       0.549841    0.345966                       0.464308   \n",
       "\n",
       "     Dystopia.Residual  Year Country_Code  \n",
       "89            1.892173  2017          BIH  \n",
       "56            2.176831  2017          ROU  \n",
       "37            2.053247  2017          TTO  \n",
       "55            2.807808  2017         None  \n",
       "104           0.996139  2017          BGR  \n",
       "..                 ...   ...          ...  \n",
       "8             2.097538  2017          SWE  \n",
       "1             2.313707  2017          DNK  \n",
       "34            1.145464  2017          QAT  \n",
       "150           0.540061  2017          RWA  \n",
       "25            1.216362  2017          SGP  \n",
       "\n",
       "[155 rows x 14 columns]"
      ]
     },
     "execution_count": 38,
     "metadata": {},
     "output_type": "execute_result"
    }
   ],
   "source": [
    "reports['2017'].sort_values(by='Trust (Government Corruption)')"
   ]
  },
  {
   "cell_type": "code",
   "execution_count": 30,
   "metadata": {},
   "outputs": [
    {
     "data": {
      "text/plain": [
       "Overall rank                         71\n",
       "Country                         Moldova\n",
       "Score                             5.529\n",
       "GDP per capita                    0.685\n",
       "Social support                    1.328\n",
       "Healthy life expectancy           0.739\n",
       "Freedom to make life choices      0.245\n",
       "Generosity                        0.181\n",
       "Perceptions of corruption           0.0\n",
       "Year                               2019\n",
       "Country_Code                       None\n",
       "Name: 70, dtype: object"
      ]
     },
     "execution_count": 30,
     "metadata": {},
     "output_type": "execute_result"
    }
   ],
   "source": [
    "reports['2019'].iloc[70,:]"
   ]
  },
  {
   "cell_type": "code",
   "execution_count": null,
   "metadata": {},
   "outputs": [],
   "source": []
  }
 ],
 "metadata": {
  "kernelspec": {
   "display_name": "estudo",
   "language": "python",
   "name": "python3"
  },
  "language_info": {
   "codemirror_mode": {
    "name": "ipython",
    "version": 3
   },
   "file_extension": ".py",
   "mimetype": "text/x-python",
   "name": "python",
   "nbconvert_exporter": "python",
   "pygments_lexer": "ipython3",
   "version": "3.10.9"
  }
 },
 "nbformat": 4,
 "nbformat_minor": 2
}
